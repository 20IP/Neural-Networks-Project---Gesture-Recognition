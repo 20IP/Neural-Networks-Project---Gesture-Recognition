{
 "cells": [
  {
   "cell_type": "code",
   "execution_count": 1,
   "id": "55b6c9a7-7e12-4679-b43c-27bec4a4aedb",
   "metadata": {},
   "outputs": [
    {
     "data": {
      "text/plain": [
       "'2.7.0'"
      ]
     },
     "execution_count": 1,
     "metadata": {},
     "output_type": "execute_result"
    }
   ],
   "source": [
    "import numpy as np\n",
    "import os\n",
    "import tensorflow as tf\n",
    "import cv2\n",
    "import glob\n",
    "tf.__version__"
   ]
  },
  {
   "cell_type": "code",
   "execution_count": 2,
   "id": "6344b658-208c-4c07-a3d8-d6ccc351bde8",
   "metadata": {},
   "outputs": [],
   "source": [
    "def generator(process_video):\n",
    "    y=120\n",
    "    z=120\n",
    "    outFrame = []\n",
    "    batch_data = np.zeros((1,30,y,z,3))\n",
    "    for idx, i in enumerate(glob.glob(process_video+'/*.*')):\n",
    "        image = cv2.imread(i).astype(np.float32)\n",
    "        if image.shape[0] == 120 and image.shape[1] == 160:\n",
    "            image = image[0:120, 20:140]\n",
    "        else:\n",
    "            image = cv2.resize(image, (y,z), interpolation=cv2.INTER_LANCZOS4)\n",
    "        batch_data[0,idx,:,:,0] = (image[:,:,0] - 127) / 127.\n",
    "        batch_data[0,idx,:,:,1] = (image[:,:,1] - 127) / 127.\n",
    "        batch_data[0,idx,:,:,2] = (image[:,:,2] - 127) / 127.\n",
    "    return batch_data"
   ]
  },
  {
   "cell_type": "code",
   "execution_count": 3,
   "id": "6971614b-0672-458f-9cef-262b0fb3330e",
   "metadata": {},
   "outputs": [
    {
     "name": "stdout",
     "output_type": "stream",
     "text": [
      "Model: \"pretrained_vgg16_gru\"\n",
      "_________________________________________________________________\n",
      " Layer (type)                Output Shape              Param #   \n",
      "=================================================================\n",
      " time_distributed_14 (TimeDi  (None, 30, 4608)         14714688  \n",
      " stributed)                                                      \n",
      "                                                                 \n",
      " time_distributed_15 (TimeDi  (None, 30, 4608)         0         \n",
      " stributed)                                                      \n",
      "                                                                 \n",
      " gru_4 (GRU)                 (None, 256)               3737088   \n",
      "                                                                 \n",
      " batch_normalization_6 (Batc  (None, 256)              1024      \n",
      " hNormalization)                                                 \n",
      "                                                                 \n",
      " dense_14 (Dense)            (None, 32)                8224      \n",
      "                                                                 \n",
      " batch_normalization_7 (Batc  (None, 32)               128       \n",
      " hNormalization)                                                 \n",
      "                                                                 \n",
      " dropout_12 (Dropout)        (None, 32)                0         \n",
      "                                                                 \n",
      " dense_15 (Dense)            (None, 5)                 165       \n",
      "                                                                 \n",
      "=================================================================\n",
      "Total params: 18,461,317\n",
      "Trainable params: 3,746,053\n",
      "Non-trainable params: 14,715,264\n",
      "_________________________________________________________________\n"
     ]
    }
   ],
   "source": [
    "model = tf.keras.models.load_model('pretrained_vgg16_gru/model-00046-0.03527-0.99397-0.15629-0.96000.h5')\n",
    "model.summary()"
   ]
  },
  {
   "cell_type": "markdown",
   "id": "fcbb837f-0005-46ae-a4b0-45e57ec3757b",
   "metadata": {},
   "source": [
    "- Left_Swipe_new : 0 </br>\n",
    "- Right_Swipe_new : 1 </br>\n",
    "- Stop_new : 2 </br>\n",
    "- Thumbs_Down_new : 3 </br>\n",
    "- Thumbs_Up_new : 4 </br>"
   ]
  },
  {
   "cell_type": "code",
   "execution_count": 4,
   "id": "cc2cc007-e65f-44a3-830d-e4653772431b",
   "metadata": {},
   "outputs": [],
   "source": [
    "stay = {0:\"Left_Swipe_new\", 1:\"Right_Swipe_new\", 2:\"Stop_new\", 3:\"Thumbs_Down_new\", 4:\"Thumbs_Up_new\"}"
   ]
  },
  {
   "cell_type": "code",
   "execution_count": 5,
   "id": "77fb68cd-bf3c-457c-a9cd-12d5a67ff0a3",
   "metadata": {},
   "outputs": [],
   "source": [
    "frames = generator('WIN_20180907_15_52_05_Pro_Thumbs Up_new')\n",
    "result = model.predict(frames)"
   ]
  },
  {
   "cell_type": "code",
   "execution_count": 6,
   "id": "2c777f4e-8cac-4c59-ad31-96d8209e0dc8",
   "metadata": {},
   "outputs": [
    {
     "name": "stdout",
     "output_type": "stream",
     "text": [
      "Confidence:  0.9741954\n"
     ]
    }
   ],
   "source": [
    "print('Confidence: ', max(result[0]))"
   ]
  },
  {
   "cell_type": "code",
   "execution_count": 7,
   "id": "4876facb-11b8-48ce-915f-8414175ec349",
   "metadata": {},
   "outputs": [
    {
     "name": "stdout",
     "output_type": "stream",
     "text": [
      "Action is:  Thumbs_Up_new\n"
     ]
    }
   ],
   "source": [
    "Action = stay[np.argmax(result)]\n",
    "print('Action is: ', Action)"
   ]
  },
  {
   "cell_type": "code",
   "execution_count": null,
   "id": "c0e04921-3226-4e25-9620-7a91557551e3",
   "metadata": {},
   "outputs": [],
   "source": []
  }
 ],
 "metadata": {
  "kernelspec": {
   "display_name": "Python 3 (ipykernel)",
   "language": "python",
   "name": "python3"
  },
  "language_info": {
   "codemirror_mode": {
    "name": "ipython",
    "version": 3
   },
   "file_extension": ".py",
   "mimetype": "text/x-python",
   "name": "python",
   "nbconvert_exporter": "python",
   "pygments_lexer": "ipython3",
   "version": "3.8.8"
  }
 },
 "nbformat": 4,
 "nbformat_minor": 5
}
